{
 "cells": [
  {
   "cell_type": "code",
   "execution_count": 1,
   "id": "417a0f70-7ac7-48a0-80a0-39763828dc2f",
   "metadata": {},
   "outputs": [
    {
     "ename": "ModuleNotFoundError",
     "evalue": "No module named 'openai'",
     "output_type": "error",
     "traceback": [
      "\u001b[31m---------------------------------------------------------------------------\u001b[39m",
      "\u001b[31mModuleNotFoundError\u001b[39m                       Traceback (most recent call last)",
      "\u001b[36mCell\u001b[39m\u001b[36m \u001b[39m\u001b[32mIn[1]\u001b[39m\u001b[32m, line 1\u001b[39m\n\u001b[32m----> \u001b[39m\u001b[32m1\u001b[39m \u001b[38;5;28;01mfrom\u001b[39;00m\u001b[38;5;250m \u001b[39m\u001b[34;01mopenai\u001b[39;00m\u001b[38;5;250m \u001b[39m\u001b[38;5;28;01mimport\u001b[39;00m AzureOpenAI, OpenAI\n\u001b[32m      2\u001b[39m \u001b[38;5;28;01mimport\u001b[39;00m\u001b[38;5;250m \u001b[39m\u001b[34;01mos\u001b[39;00m\n\u001b[32m      3\u001b[39m \u001b[38;5;28;01mimport\u001b[39;00m\u001b[38;5;250m \u001b[39m\u001b[34;01msys\u001b[39;00m\n",
      "\u001b[31mModuleNotFoundError\u001b[39m: No module named 'openai'"
     ]
    }
   ],
   "source": [
    "from openai import AzureOpenAI, OpenAI\n",
    "import os\n",
    "import sys\n",
    "import fitz \n",
    "import yaml \n",
    "from datetime import datetime\n",
    "from utils import *\n",
    "\n",
    "N = 2\n",
    "config_wm_file = \"configs/wm_outside.yaml\"\n",
    "config_test_file = \"configs/reviewer.yaml\"\n",
    "tmp_dir = \"./tmp/\"\n",
    "input_dir = \"./ICLR2025_accepted/pdf/\"\n",
    "results_dir = \"./results/\"\n",
    "\n",
    "model_name = \"gemini-2.5-flash\"\n",
    "client = OpenAI(api_key=os.environ[\"GCP_API_KEY\"],\n",
    "                base_url=\"https://generativelanguage.googleapis.com/v1beta/openai/\")\n",
    "\n",
    "with open(config_wm_file, 'r') as file:\n",
    "    config_wm_list = yaml.safe_load(file)\n",
    "    print(config_wm_list)\n",
    "with open(config_test_file, 'r') as file:\n",
    "    config_test_list = yaml.safe_load(file)\n",
    "    print(config_test_list)\n",
    "    \n",
    "\n",
    "for i in range(N):\n",
    "    print(f\"i={i}\")\n",
    "    input_path = input_dir + str(i) + '.pdf'\n",
    "\n",
    "    for config_wm in config_wm_list:\n",
    "        if config_wm['type'] == 'intext':\n",
    "            c = add_abstract_blend_wm(input_path, client, model_name, config_wm)\n",
    "            for config_test in config_test_list:\n",
    "                res = test_content(c, client, model_name, config_test)\n",
    "                save_results(results_dir + str(i) + f\"_{timestamp}_expt.yaml\", model_name, res, config_wm, config_test)         \n",
    "        elif config_wm['type'] == 'outside':\n",
    "            out_fname = add_wm(input_path, tmp_dir, config_wm)\n",
    "            print('Output filename:', out_fname)\n",
    "            for config_test in config_test_list:\n",
    "                res = test(out_fname, client, model_name, extract_text, config_test)\n",
    "                save_results(results_dir + str(i) + f\"_{timestamp}_expt.yaml\", model_name, res, config_wm, config_test)         \n",
    "        else:\n",
    "            print('****** Error: Unknown WM type ********')\n",
    "\n",
    "            "
   ]
  },
  {
   "cell_type": "code",
   "execution_count": null,
   "id": "aa473689-32c8-4545-88dc-1591ca790192",
   "metadata": {},
   "outputs": [],
   "source": []
  }
 ],
 "metadata": {
  "kernelspec": {
   "display_name": "Python prompt_inject",
   "language": "python",
   "name": "uv-env"
  },
  "language_info": {
   "codemirror_mode": {
    "name": "ipython",
    "version": 3
   },
   "file_extension": ".py",
   "mimetype": "text/x-python",
   "name": "python",
   "nbconvert_exporter": "python",
   "pygments_lexer": "ipython3",
   "version": "3.12.7"
  }
 },
 "nbformat": 4,
 "nbformat_minor": 5
}
