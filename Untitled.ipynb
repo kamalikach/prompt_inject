{
 "cells": [
  {
   "cell_type": "code",
   "execution_count": 2,
   "id": "417a0f70-7ac7-48a0-80a0-39763828dc2f",
   "metadata": {},
   "outputs": [],
   "source": [
    "from litellm import completion\n",
    "from base64 import b64encode\n",
    "\n",
    "import fitz"
   ]
  },
  {
   "cell_type": "code",
   "execution_count": null,
   "id": "b503f7c5-26ff-4938-823b-d27d927d7b72",
   "metadata": {},
   "outputs": [],
   "source": [
    "def encode_image(image_path):\n",
    "    with open(image_path, \"rb\") as f:\n",
    "        return b64encode(f.read()).decode(\"utf-8\")\n",
    "\n",
    "def build_reviewer_message(reviewer_prompt, file_content):\n",
    "    prompt_text = reviewer_prompt['before'] + file_content['text'] + reviewer_prompt['after']\n",
    "    content = [{\"type\": \"text\", \"text\": prompt_text}]   \n",
    "    if file_content['image_paths']:\n",
    "        content += [\n",
    "            {\n",
    "                \"type\": \"image_url\",\n",
    "                \"image_url\": {\n",
    "                    \"url\": f\"data:image/jpeg;base64,{encode_image(path)}\",\n",
    "                },\n",
    "            }\n",
    "            for path in file_content['image_paths']\n",
    "        ]\n",
    "    return {\"role\": \"user\", \"content\": content}\n",
    "\n",
    "def chunk_text(text, max_tokens=2000, token_ratio=0.75):\n",
    "    \"\"\"\n",
    "    Chunk text into segments that roughly match the token limit.\n",
    "    Assumes 1 token ≈ token_ratio words (default ~0.75 for GPT-4).\n",
    "    \"\"\"\n",
    "    max_words = int(max_tokens / token_ratio)\n",
    "    words = text.split()\n",
    "    chunks = []\n",
    "\n",
    "    for i in range(0, len(words), max_words):\n",
    "        chunk = \" \".join(words[i:i + max_words])\n",
    "        chunks.append(chunk)\n",
    "\n",
    "    return chunks"
   ]
  },
  {
   "cell_type": "code",
   "execution_count": null,
   "id": "9cfcb5c5-d169-423a-a8e7-bdc100cee2c4",
   "metadata": {},
   "outputs": [],
   "source": [
    "def extract_text(file_path):\n",
    "    #given an open pdf file descriptor return text from it\n",
    "    #returns a file_content dict with a single field 'text'\n",
    "\n",
    "    doc = fitz.open(file_path)\n",
    "    all_text = []\n",
    "\n",
    "    for page in doc:\n",
    "        text = page.get_text()\n",
    "        if text.strip():  # Skip empty pages\n",
    "            all_text.append(text)\n",
    "\n",
    "    doc.close()\n",
    "    return {'text': \"\\n\".join(all_text)}\n",
    "\n",
    "\n",
    "    "
   ]
  },
  {
   "cell_type": "code",
   "execution_count": null,
   "id": "9cd4b373-2086-43c2-8aeb-483b8b582703",
   "metadata": {},
   "outputs": [],
   "source": [
    "\n",
    "\n",
    "def test(pdf_file_name, model, reviewer_prompt, extract_content_message):\n",
    "    #given an open pdf_file descriptor, extract content from the file\n",
    "    #then send it to the model with added reviewer prompt, and return text of the response\n",
    "\n",
    "    content = extract_content(pdf_file_name)\n",
    "    messages = build_reviewer_message(reviewer_prompt, content)\n",
    "        \n",
    "    response = completion(model=model, messages=messages)\n",
    "    return response[\"choices\"][0][\"message\"][\"content\"]\n"
   ]
  }
 ],
 "metadata": {
  "kernelspec": {
   "display_name": "Python 3 (ipykernel)",
   "language": "python",
   "name": "python3"
  },
  "language_info": {
   "codemirror_mode": {
    "name": "ipython",
    "version": 3
   },
   "file_extension": ".py",
   "mimetype": "text/x-python",
   "name": "python",
   "nbconvert_exporter": "python",
   "pygments_lexer": "ipython3",
   "version": "3.12.7"
  }
 },
 "nbformat": 4,
 "nbformat_minor": 5
}
